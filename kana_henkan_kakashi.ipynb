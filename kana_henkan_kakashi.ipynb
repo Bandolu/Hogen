{
  "nbformat": 4,
  "nbformat_minor": 0,
  "metadata": {
    "colab": {
      "provenance": []
    },
    "kernelspec": {
      "name": "python3",
      "display_name": "Python 3"
    }
  },
  "cells": [
    {
      "cell_type": "markdown",
      "source": [
        "# README\n",
        "**方言コーパスは個人利用にとどめることを強く推奨します。**\n",
        "**本プログラムの商用利用はご遠慮ください。**\n",
        "学術**論文**での利用を希望される場合、[Bandolu (Kogane)](https://github.com/Bandolu)までご連絡ください。"
      ],
      "metadata": {
        "id": "NCXyyDmHPJ94"
      }
    },
    {
      "cell_type": "markdown",
      "source": [
        "#このプログラムについて\n",
        "方言コーパスを平仮名に変換します。\n",
        "標準語の漢字入力も平等に平仮名に変えます。\n",
        "\n",
        "方言を平仮名にした後漢字に変換し直す労力を割ける人は[関数定義](https://colab.research.google.com/drive/1XxFAiD2lK-kExoEK5VwQUkwCvWGaUX5N?authuser=2#scrollTo=jtEwt4a327y3&line=1&uniqifier=1)セルを上手くイジってください。  \n",
        "Driveマウントの項はご自由にいじってどうぞ。\n",
        "\n",
        "##CSVフォーマット\n",
        "[ここ](https://www2.ninjal.ac.jp/cojads/index.html?targ=data)からコーパスをDLして、列を絞ってください。  \n",
        "再配布はしたくないので、結合作業は自分で頑張ってください。Excelがあれば簡単にできます。  \n",
        "\n",
        "|  話者  |  地名  |  方言テキスト  |  標準語テキスト  |\n",
        "| ---- | ---- | ---- | ---- |\n",
        "|  TD  |  TD  | TD  |  TD  |\n",
        "|  TD  |  TD  | TD  |  TD  |\n",
        "\n",
        "\n",
        "### 参考にさせていただきました\n",
        "[Python] 結合文字を使用した濁点や半濁点を直前の仮名と結合させる方法(ウ゛→ ヴ) - Qiita https://qiita.com/gretchi/items/13c0825282415e2e360d\n"
      ],
      "metadata": {
        "id": "ojc1r8N3Laut"
      }
    },
    {
      "cell_type": "markdown",
      "source": [
        "#Driveマウント"
      ],
      "metadata": {
        "id": "lbb70jrW8h3u"
      }
    },
    {
      "cell_type": "code",
      "metadata": {
        "id": "HD2eueDpC7oE"
      },
      "source": [
        "from google.colab import drive\n",
        "drive.mount('/content/drive')"
      ],
      "execution_count": null,
      "outputs": []
    },
    {
      "cell_type": "code",
      "metadata": {
        "id": "coo9YpA9cdWA"
      },
      "source": [
        "cd /content/drive/My\\ Drive/Colab\\ Notebooks/Transformer"
      ],
      "execution_count": null,
      "outputs": []
    },
    {
      "cell_type": "markdown",
      "metadata": {
        "id": "epQKzhSr2eQp"
      },
      "source": [
        "# ライブラリ読み込み"
      ]
    },
    {
      "cell_type": "code",
      "metadata": {
        "id": "i3fHswsx2Ur8"
      },
      "source": [
        "%%bash \n",
        "pip install  jaconv\n",
        "pip install icecream\n",
        "pip install pykakasi"
      ],
      "execution_count": null,
      "outputs": []
    },
    {
      "cell_type": "code",
      "metadata": {
        "id": "t4JgjJzs4MGb"
      },
      "source": [
        "import pandas as pd\n",
        "import re\n",
        "import codecs\n",
        "import copy\n",
        "import jaconv\n",
        "import os\n",
        "from icecream import ic\n",
        "import unicodedata\n",
        "from pykakasi import kakasi"
      ],
      "execution_count": null,
      "outputs": []
    },
    {
      "cell_type": "markdown",
      "source": [
        "###デバッグ不要なら以下のセルを起動すべし。"
      ],
      "metadata": {
        "id": "6mOaAw5S-1TP"
      }
    },
    {
      "cell_type": "code",
      "source": [
        "ic.disable()"
      ],
      "metadata": {
        "id": "mtg9FpCh-0rp"
      },
      "execution_count": null,
      "outputs": []
    },
    {
      "cell_type": "markdown",
      "metadata": {
        "id": "UGuSp62c2o4x"
      },
      "source": [
        "# データ読み込み"
      ]
    },
    {
      "cell_type": "code",
      "metadata": {
        "id": "snWWm2Jp2c4p"
      },
      "source": [
        "in_file = \"0001_sendai_v1_utf8.csv\"\n",
        "corpus_path = os.path.join(\"DATA\",in_file)\n",
        "df = pd.read_csv(corpus_path)\n",
        "#df['A'] = \"\"\n",
        "ic('**** Amount of data ****')\n",
        "ic(df)\n",
        "ic('\\n')\n",
        "ic('**** Amount of data ****')\n"
      ],
      "execution_count": null,
      "outputs": []
    },
    {
      "cell_type": "markdown",
      "metadata": {
        "id": "jtEwt4a327y3"
      },
      "source": [
        "# 関数定義"
      ]
    },
    {
      "cell_type": "code",
      "source": [
        "# オブジェクトをインスタンス化\n",
        "kakasi = kakasi()"
      ],
      "metadata": {
        "id": "XLrTWnl4JeiN"
      },
      "execution_count": null,
      "outputs": []
    },
    {
      "cell_type": "code",
      "source": [
        "#c_path = './DATA/Kessen.txt'\n",
        "\n",
        "c_df = copy.deepcopy(df)\n",
        "pHogen = re.compile(r'[（ＦF：）ＤＺＭ〔〕＊［］Ｏ１ＳＧＣＰＬＲX123SP＜＞＝｛｝「」]')\n",
        "pBigakuon = re.compile(r'[（ＦF：）ＤＺＭ〔〕＊［］Ｏ１ＳＧＣＰＬＲX123SP＜＞＝｛｝「」]')\n",
        "\n",
        "\n",
        "def kata_hira(x):\n",
        "    return jaconv.kata2hira(x)\n",
        "\n",
        "def regex(x):\n",
        "    return re.sub(pHogen, '', x)\n",
        "\n",
        "\n",
        "def noma(x):\n",
        "    return unicodedata.normalize('NFKC', x)\n",
        "\n",
        "def join_diacritic(_text):\n",
        "    \"\"\"\n",
        "    基底文字と濁点・半濁点を結合\n",
        "    \"\"\"\n",
        "\n",
        "    # 謎の○を濁点に戻す\n",
        "    text = re.sub('゜', '゛', _text)\n",
        "    # str -> bytes\n",
        "    bytes_text = text.encode()\n",
        "\n",
        "\n",
        "\n",
        "    # 濁点Unicode結合文字置換\n",
        "    bytes_text = re.sub(b\"\\xe3\\x82\\x9b\", b'\\xe3\\x82\\x99', bytes_text)\n",
        "    bytes_text = re.sub(b\"\\xef\\xbe\\x9e\", b'\\xe3\\x82\\x99', bytes_text)\n",
        "\n",
        "    # 半濁点Unicode結合文字置換\n",
        "    bytes_text = re.sub(b\"\\xe3\\x82\\x9c\", b'\\xe3\\x82\\x9a', bytes_text)\n",
        "    bytes_text = re.sub(b\"\\xef\\xbe\\x9f\", b'\\xe3\\x82\\x9a', bytes_text)\n",
        "\n",
        "    # bytet -> str\n",
        "    text = bytes_text.decode()\n",
        "\n",
        "    # 正規化\n",
        "    mode=\"NFKC\"\n",
        "    text = unicodedata.normalize(mode, text)\n",
        "\n",
        "    return text\n",
        "\n",
        "\n",
        "def kanji2hiragana(x):\n",
        "    text = x\n",
        "\n",
        "    # モードの設定：J(Kanji) to H(Hiragana)\n",
        "    kakasi.setMode('J', 'H') \n",
        "\n",
        "    # 変換して出力\n",
        "    conv = kakasi.getConverter()\n",
        "    text = conv.do(text)  # => けいたいそかいせき\n",
        "    return text\n"
      ],
      "metadata": {
        "id": "u9yQpwxKHnSd"
      },
      "execution_count": null,
      "outputs": []
    },
    {
      "cell_type": "markdown",
      "source": [
        "#実行"
      ],
      "metadata": {
        "id": "r2TkWOyfLRu5"
      }
    },
    {
      "cell_type": "code",
      "metadata": {
        "id": "MWmFXO3nxGEe"
      },
      "source": [
        "\n",
        "hougen = c_df['方言テキスト']\n",
        "hyoujun = c_df['標準語テキスト']\n",
        "ic(hougen)\n",
        "ic(hyoujun)\n",
        "\n",
        "hougen = hougen.map(regex)\n",
        "hougen = hougen.map(join_diacritic)\n",
        "hougen = hougen.map(kata_hira)\n",
        "#ic(hougen)\n",
        "hyoujun = hyoujun.map(regex)\n",
        "hyoujun = hyoujun.map(kanji2hiragana)\n",
        "hyoujun = hyoujun.map(kata_hira)\n",
        "hyoujun = hyoujun.map(noma)\n",
        "#ic(hyoujun)\n",
        "        \n",
        "        #print(parsed,file=f)\n",
        "ic(c_df.head())\n",
        "\n",
        "c_df['方言テキスト'] = hougen\n",
        "c_df['標準語テキスト'] = hyoujun\n",
        "ic(c_df.head())"
      ],
      "execution_count": null,
      "outputs": []
    },
    {
      "cell_type": "markdown",
      "metadata": {
        "id": "4I9b0rET3AgC"
      },
      "source": [
        "# データ出力"
      ]
    },
    {
      "cell_type": "code",
      "source": [
        "c_df.to_csv( os.path.join(\"DATA\",\"Hiragana_\"+in_file), index=False)"
      ],
      "metadata": {
        "id": "0BwBcADf99yq"
      },
      "execution_count": null,
      "outputs": []
    }
  ]
}